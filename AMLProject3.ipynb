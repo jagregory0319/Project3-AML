{
 "cells": [
  {
   "cell_type": "code",
   "execution_count": 9,
   "metadata": {},
   "outputs": [],
   "source": [
    "# AML Project 3 Notebook"
   ]
  },
  {
   "cell_type": "code",
   "execution_count": 10,
   "metadata": {},
   "outputs": [],
   "source": [
    "# Grandient Boosted Model"
   ]
  },
  {
   "cell_type": "code",
   "execution_count": 11,
   "metadata": {},
   "outputs": [
    {
     "name": "stdout",
     "output_type": "stream",
     "text": [
      "Accuracy of train:  0.9843881856540084\n",
      "Accuracy of test :  0.8075949367088607\n",
      "Confusion Matrix:\n",
      "[[  1   0   1   0   0   0   0   0   0]\n",
      " [  0   1   0   0   0   1   0   0   0]\n",
      " [  1   2   0   0   1   1   0   0   0]\n",
      " [  0   0   0   1   5   0   1   0   2]\n",
      " [  0   0   0   4   3  10   1   0   0]\n",
      " [  0   0   0   5   4   9  14   1   3]\n",
      " [  0   0   0   2   3   8  31   2  26]\n",
      " [  0   0   0   0   0   0   2   1   6]\n",
      " [  0   0   0   0   0  13  29   4 591]]\n",
      "\n",
      "Accuracy of 2023 predictions: 0.8181818181818182\n",
      "Confusion Matrix for 2023 predictions:\n",
      "[[  0   0   1   0   0   0   0   0   0]\n",
      " [  0   0   0   0   1   0   0   0   0]\n",
      " [  0   1   0   0   0   0   1   0   0]\n",
      " [  0   0   0   1   2   1   0   0   0]\n",
      " [  0   0   0   3   3   0   1   0   1]\n",
      " [  0   0   0   0   1   5   6   0   4]\n",
      " [  0   0   0   1   1   5  15   0  10]\n",
      " [  0   0   0   0   0   0   0   1   3]\n",
      " [  0   0   1   0   1   4  16   1 272]]\n"
     ]
    }
   ],
   "source": [
    "# SVM Model\n",
    "\n",
    "import pandas as pd\n",
    "from sklearn import svm\n",
    "from sklearn.model_selection import train_test_split\n",
    "from sklearn.metrics import accuracy_score\n",
    "from sklearn.pipeline import Pipeline\n",
    "from sklearn.preprocessing import RobustScaler\n",
    "from sklearn.metrics import confusion_matrix\n",
    "\n",
    "# Read Dataset\n",
    "df = pd.read_csv('cbb.csv')\n",
    "\n",
    "# Remove rows with year 2023\n",
    "df = df[df['YEAR'] != 2023]\n",
    "\n",
    "# Convert non-numeric values in column \"POSTSEASON\"\n",
    "convert = {\"Champions\" : 1, \"2ND\" : 2, \"F4\" : 3, \"E8\" : 4, \"S16\" : 5, \"R32\" : 6, \"R64\" : 7, \"R68\" : 8}\n",
    "df['POSTSEASON'] = df['POSTSEASON'].map(convert)\n",
    "df.fillna({'POSTSEASON': 9}, inplace = True)\n",
    "\n",
    "# Split dataframe into testing and training data\n",
    "X = df[['G','W','ADJOE','ADJDE','BARTHAG','EFG_O','EFG_D','TOR','TORD','ORB','DRB','FTR','FTRD','2P_O','2P_D','3P_O',\n",
    "        '3P_D','ADJ_T']]\n",
    "y = df['POSTSEASON']\n",
    "X_train, X_test, y_train, y_test = \\\n",
    "    train_test_split(X, y, test_size=.25, stratify=y)\n",
    "\n",
    "# Train and fit SVM model        \n",
    "svm_m = svm.SVC(kernel='rbf', C=100, probability = True, class_weight=\"balanced\", gamma='scale', tol=0.0001)\n",
    "svm_model = Pipeline ([\n",
    "    ('scaler', RobustScaler()),\n",
    "    ('svm', svm_m)\n",
    "])\n",
    "svm_model.fit(X_train, y_train)\n",
    "\n",
    "# Accuracy of model using score and confusion matrix\n",
    "print(\"Accuracy of train: \", svm_model.score(X_train, y_train))\n",
    "print(\"Accuracy of test : \", svm_model.score(X_test, y_test))\n",
    "\n",
    "y_pred = svm_model.predict(X_test)\n",
    "cm = confusion_matrix(y_test, y_pred)\n",
    "print(\"Confusion Matrix:\")\n",
    "print(cm)\n",
    "\n",
    "# Read and convert test data\n",
    "s23_df = pd.read_csv('cbb23.csv')\n",
    "s23_df['POSTSEASON'] = s23_df['POSTSEASON'].map(convert)\n",
    "s23_df.fillna({'POSTSEASON': 9}, inplace = True)\n",
    "X_new = s23_df[['G','W','ADJOE','ADJDE','BARTHAG','EFG_O','EFG_D','TOR','TORD','ORB','DRB','FTR','FTRD','2P_O','2P_D','3P_O',\n",
    "        '3P_D','ADJ_T']]\n",
    "y_new = s23_df['POSTSEASON']\n",
    "\n",
    "# Predict POSTSEASON ranking for test data                  \n",
    "svm_predictions = svm_model.predict(X_new)\n",
    "svm_probs= svm_predictions.astype(int)\n",
    "teams = s23_df.loc[y_new.index, 'TEAM']\n",
    "real_rankings = s23_df.loc[y_new.index, 'POSTSEASON'].astype(int)\n",
    "svm_predictions_df = pd.DataFrame({'TEAM': teams, 'Predictions': svm_probs, 'Actual': real_rankings})\n",
    "svm_predictions_df['Predictions'] = svm_predictions_df['Predictions']\n",
    "svm_predictions_df.to_csv('svm_pred.csv', mode='w', index=False)\n",
    "\n",
    "# Calculate accuracy and confusion matrix of predictions\n",
    "accuracy_final_predictions = accuracy_score(y_new, svm_predictions)\n",
    "print(\"\\nAccuracy of 2023 predictions:\", accuracy_final_predictions)\n",
    "cm_final_predictions = confusion_matrix(y_new, svm_predictions)\n",
    "print(\"Confusion Matrix for 2023 predictions:\")\n",
    "print(cm_final_predictions)\n"
   ]
  },
  {
   "cell_type": "code",
   "execution_count": 12,
   "metadata": {},
   "outputs": [],
   "source": [
    "# Neural Network Model"
   ]
  }
 ],
 "metadata": {
  "kernelspec": {
   "display_name": "Python 3",
   "language": "python",
   "name": "python3"
  },
  "language_info": {
   "codemirror_mode": {
    "name": "ipython",
    "version": 3
   },
   "file_extension": ".py",
   "mimetype": "text/x-python",
   "name": "python",
   "nbconvert_exporter": "python",
   "pygments_lexer": "ipython3",
   "version": "3.10.13"
  }
 },
 "nbformat": 4,
 "nbformat_minor": 2
}
